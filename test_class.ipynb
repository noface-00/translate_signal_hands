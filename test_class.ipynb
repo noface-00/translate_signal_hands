{
 "cells": [
  {
   "cell_type": "markdown",
   "id": "8ca6c803",
   "metadata": {},
   "source": [
    "URL AUDIO"
   ]
  },
  {
   "cell_type": "code",
   "execution_count": 8,
   "id": "d540cf17",
   "metadata": {},
   "outputs": [
    {
     "name": "stdout",
     "output_type": "stream",
     "text": [
      "Descargando audio de YouTube......\n",
      "[youtube] Extracting URL: https://www.youtube.com/watch?v=akARTn2n9qw\n",
      "[youtube] akARTn2n9qw: Downloading webpage\n",
      "[youtube] akARTn2n9qw: Downloading tv client config\n",
      "[youtube] akARTn2n9qw: Downloading tv player API JSON\n",
      "[youtube] akARTn2n9qw: Downloading ios player API JSON\n",
      "[youtube] akARTn2n9qw: Downloading player ab11fe69-main\n",
      "[youtube] akARTn2n9qw: Downloading m3u8 information\n",
      "[info] akARTn2n9qw: Downloading 1 format(s): 251\n",
      "[download] Destination: Mis_Audios\\Así Funcionan Los Clientes De Schedule 1 Según El Código.webm\n",
      "[download] 100% of    5.30MiB in 00:00:01 at 4.71MiB/s   \n",
      "¡Descarga completada!\n"
     ]
    }
   ],
   "source": [
    "from url_audio_class import URLAudioTranscriber\n",
    "\n",
    "def prueba_descarga_audio():\n",
    "    url = \"https://www.youtube.com/watch?v=akARTn2n9qw\"  # Sustituye por una URL válida\n",
    "    descargador = URLAudioTranscriber(url)\n",
    "    descargador.descarga()  # Esto descargará el archivo de audio\n",
    "\n",
    "# Ejecutar la prueba\n",
    "prueba_descarga_audio()"
   ]
  },
  {
   "cell_type": "markdown",
   "id": "a593ae3c",
   "metadata": {},
   "source": [
    "AUDIO A TEXTO"
   ]
  },
  {
   "cell_type": "code",
   "execution_count": 4,
   "id": "b3341c5d",
   "metadata": {},
   "outputs": [
    {
     "name": "stdout",
     "output_type": "stream",
     "text": [
      "Convirtiendo Prueba.webm a WAV...\n",
      "Archivo convertido: c:\\Users\\PC\\Desktop\\Cursos\\Proj_electro\\translate_signal_hands\\Mis_Audios\\Prueba.wav\n",
      "Cargando modelo Whisper...\n",
      "Transcribiendo...\n",
      "Transcripción guardada en c:\\Users\\PC\\Desktop\\Cursos\\Proj_electro\\translate_signal_hands\\Transcripciones\\Prueba.txt\n",
      "Dispositivo usado: cuda:0\n",
      " ¿Alguna vez te has preguntado cómo estos pequeños adictos deciden qué comprar, cuánto comprar, cuándo comprar, qué sienten, de qué están escapando al usar estupefacientes? Pues pasé horas analizando el código del juego para aprender las respuestas de algunas de estas preguntas y te voy a enseñar los resultados. Antes de brincar el código, este es el proceso de compra. Paso 1, el quién te decide si ya pasó suficiente tiempo para pedir más. Paso 2, el quién te decide qué quiere comprar, cuánto quiere comprar y cuánto está dispuesto a pagar. Paso 3, te envió un mensaje a ti con lo que decidió en el paso anterior. Paso 4, respondes con una contraoferta porque no creaste la mezcla más adictiva por caridad. Paso 5, el quién te decide si te estás pasando de lanza o si tu oferta es buena, la rechaza o acepta. Paso 6, completas el trato y obtienes el dinero que te ganaste honestamente. Ahora vamos a analizar cada paso para ver cómo funciona. El proceso de algunos de estos pasos es más complicado de lo que esperarías. Para comenzar, el código tiene una función llamada minpass que se ejecuta cada minuto del juego para cada objeto de costumers, que son los NPCs clientes. En esta función se hacen varias cosas, pero la que nos importa de momento es que se llama esta otra función que checa si debería intentar hacer un pedido. En esta función se revisan cosas simples como si el cliente está desbloqueado, si tiene tratos activos actualmente y si ha pasado suficiente tiempo para crear un trato nuevo. Esta parte se me hizo interesante ya que usa el nombre del NPC para calcular el tiempo que debe esperar para hacer otro trato. Lo hace de la siguiente manera. Primero, el número base son 600 minutos dentro del juego que son 10 horas. Después realiza esta operación que básicamente es tomar el valor de la primera letra del nombre y usando ese valor toma el residuo de la división entre 10 y lo multiplica por 20. Por ejemplo, si el cliente es Jesse, toma el valor 74 ya que es el valor de la J mayúscula en la tabla ASCII y hace esta operación llamada módulo para calcular el residuo de dividirlo entre 10, que en este caso sería 4. Ese 4 lo multiplica por 20, lo cual da 80 y se lo suma a los 600 minutos de base, lo cual da 680 minutos de resultado. Entonces todos los NPCs cuyo nombre comienza con la letra J tardarán en pedir al menos 11 horas con 20 minutos en tiempo dentro del juego. Una vez hizo estos cálculos, revisa si ya pasó al menos ese tiempo desde que se hizo el último trato. También deben haber pasado 30 minutos desde que desbloqueaste al NPC. Después de eso obtiene una lista de días en los que puede ordenar. Es un poco complicado de explicar, pero este es el código si te interesa. El cliente, dependiendo de la adicción del NPC y que tan alto es tu nivel de relación con ese cliente, saca entre 1 y 5 días en los que el cliente puede pedir. Otra cosa interesante aquí es que cada cliente tiene un día preferido para ordenar. El de Jesse es el jueves. Bueno, una vez con esa lista de días, si el día actual no está en esos días cancela todo y no hace el pedido. Pero si sí está, continúa con obtener la hora de pedido del cliente. Cada cliente tiene una hora de pedido diferente. Jenny pide alrededor de las 10 y media pm y da una ventana de 6 horas para hacer el pedido. Si el juego está en esa ventana del tiempo, obtiene el gasto que puede hacer el NPC. Cada NPC tiene un gasto mínimo y un gasto máximo y dependiendo en la relación que tienes con ese NPC es el gasto que hará. Entre más alto sea tu nivel de relación, más se acercará al gasto máximo. Y ese gasto se multiplicará por tu nivel en el juego. Es por eso que entre más avanzas, más dinero utilizan para comprar. Después de eso, obtiene el producto que va a ordenar. Cada NPC tiene un estándar de calidad, productos que le gusta más o menos y propiedades que refieren dentro de esos productos. Y toman todo eso en cuenta para elegir el producto. Además, también afecta el precio que pones en la lista. Entre más alto lo pongas, más le restará la probabilidad que pide ese producto. Leyendo el código me di cuenta de que si pones el doble del precio sugerido, nunca nadie pedirá tu producto, incluso si es el único que tienes publicado en la lista. Después de eso hace varias cosas para determinar la cantidad de producto. Dependiendo de cuánto le gustó y el precio que tiene, hace unos cálculos un poco complicados y obtiene la cantidad. Otra cosa que note aquí es que si va a pedir 14 o más, siempre lo hace en múltiples de 5. Es decir, nunca va a pedir 16 o 22. Solo 15, 20, 25 y así sucesivamente. Por último elige un área random en la región del NPC y te hace la oferta por mensaje. Y si haces una contra oferta, el NPC la evalúa. Para evaluar hace unas cosas un poco tediosas de explicar, pero a grandes rasgos. Primero verifica que el precio que estás pidiendo no sea mayor a 3 veces el gasto promedio por día que debe hacer. Si es así, lo rechaza directamente. Pero si no, compara la propuesta que hiciste contra la que el hizo, incluyendo factores como qué tanto le gusta el producto. Si es suficientemente buena, la acepta. Si no, hace un cálculo con un número aleatorio para tomar al azar si acepta o no. Tomando en cuenta que entre más adicto y mejor relación tengas con el cliente, más probable es que la acepte. Y básicamente eso es todo el proceso de cómo funciona la venta, cuando el NPC no está asignado un dealer. Obviamente simplifique un poco las cosas para no hacer tan larga la explicación y que quedara entendible el video. Igualmente estoy pensando en hacer un video analizando el código de los dealers, dime si te interesaría en los comentarios o cualquier parte del juego que te interesaría saber.\n"
     ]
    }
   ],
   "source": [
    "import os\n",
    "from audio_text_class import AudioTranscriber\n",
    "\n",
    "def prueba_transcripcion():\n",
    "    base_dir = os.getcwd()  # Compatible con Jupyter\n",
    "    carpeta_audio = os.path.join(base_dir, \"Mis_Audios\")\n",
    "    carpeta_salida = os.path.join(base_dir, \"Transcripciones\")\n",
    "    archivo_webm = \"Prueba.webm\"\n",
    "\n",
    "    transcriptor = AudioTranscriber(archivo_webm, carpeta_audio, carpeta_salida)\n",
    "    transcriptor.convertir_a_wav()\n",
    "    texto, archivo = transcriptor.transcribir_audio()\n",
    "    print(texto)\n",
    "\n",
    "# Ejecutar la prueba\n",
    "prueba_transcripcion()\n"
   ]
  },
  {
   "cell_type": "markdown",
   "id": "664d81f3",
   "metadata": {},
   "source": [
    "Texto con muletillas y sin muletillas"
   ]
  },
  {
   "cell_type": "code",
   "execution_count": 10,
   "id": "70a91067",
   "metadata": {},
   "outputs": [
    {
     "name": "stdout",
     "output_type": "stream",
     "text": [
      "Texto limpio: ¿Alguna vez te has preguntado cómo los NPCs deciden qué comprar, cuánto adquirir, cuándo hacerlo o qué motiva su consumo de estupefacientes? Analicé durante horas el código del juego para responder estas preguntas y ahora compartiré los resultados.  \n",
      "\n",
      "**Proceso de compra:**  \n",
      "1. El NPC determina si ha transcurrido el tiempo necesario para realizar un nuevo pedido.  \n",
      "2. Decide qué producto desea, en qué cantidad y cuánto está dispuesto a pagar.  \n",
      "3. Te envía una oferta con sus condiciones.  \n",
      "4. Realizas una contraoferta, ya que el objetivo es maximizar ganancias.  \n",
      "5. El NPC evalúa si tu propuesta es razonable y decide aceptar o rechazarla.  \n",
      "6. Finalizas el trato y recibes el pago correspondiente.  \n",
      "\n",
      "**Análisis detallado:**  \n",
      "El juego ejecuta una función llamada *minpass* cada minuto para cada NPC. Esta verifica si deben iniciar un nuevo pedido, considerando factores como su disponibilidad, tiempo desde el último trato y nivel de desbloqueo.  \n",
      "\n",
      "**Tiempo entre pedidos:**  \n",
      "- Tiempo base: 600 minutos (10 horas).  \n",
      "- Se ajusta según la primera letra del nombre del NPC (valor ASCII). Ejemplo: para Jesse (J=74), el cálculo sería:  \n",
      "  *74 % 10 = 4 → 4 × 20 = 80 → Total: 600 + 80 = 680 minutos (11h 20m).*  \n",
      "- Requiere mínimo 30 minutos desde su desbloqueo.  \n",
      "\n",
      "**Días y horarios de pedido:**  \n",
      "- Cada NPC tiene días preferentes (ej: Jesse prioriza los jueves) y una ventana horaria específica (ej: Jenny solicita alrededor de las 22:30 con 6 horas de margen).  \n",
      "- Si el día/hora actual no coincide, el pedido se cancela.  \n",
      "\n",
      "**Gasto y producto:**  \n",
      "- El gasto depende del nivel de relación con el NPC: a mayor afinidad, más se acerca al máximo permitido. Este monto se multiplica por tu nivel en el juego.  \n",
      "- Elección del producto: considera calidad, preferencias y precio. Si duplicas el precio sugerido, ningún NPC lo comprará, incluso si es la única opción.  \n",
      "\n",
      "**Cantidad solicitada:**  \n",
      "- Se calcula en función de la preferencia por el producto y su precio.  \n",
      "- Si la cantidad supera 14 unidades, siempre será múltiplo de 5 (15, 20, 25…).  \n",
      "\n",
      "**Evaluación de contraofertas:**  \n",
      "- Rechazo automático si excedes el triple del gasto diario promedio del NPC.  \n",
      "- En otros casos, se considera la relación con el NPC, su nivel de adicción y un factor aleatorio. A mayor afinidad y adicción, más probabilidad de aceptación.  \n",
      "\n",
      "Este análisis simplifica algunos aspectos para facilitar la comprensión. Si te interesa una explicación detallada sobre dealers u otras mecánicas, déjalo en los comentarios.\n"
     ]
    }
   ],
   "source": [
    "from clear_text_api import LimpiezaTexto\n",
    "import os\n",
    "\n",
    "def prueba_limpiar_muletillas():\n",
    "    ruta_env = r\"C:\\Users\\PC\\Desktop\\Cursos\\.venv\\keys\\.env\" # Usa '/' para compatibilidad multiplataforma\n",
    "    ruta_transcripcion = \"Transcripciones/Prueba.txt\"  # Ajusta el nombre del archivo si es diferente\n",
    "\n",
    "    if not os.path.exists(ruta_transcripcion):\n",
    "        print(f\"No se encontró el archivo de transcripción: {ruta_transcripcion}\")\n",
    "        return\n",
    "\n",
    "    with open(ruta_transcripcion, \"r\", encoding=\"utf-8\") as f:\n",
    "        texto_original = f.read()\n",
    "\n",
    "    limpiador = LimpiezaTexto(ruta_env)\n",
    "    texto_limpio = limpiador.limpiar_muletillas(texto_original)\n",
    "    print(\"Texto limpio:\", texto_limpio)\n",
    "\n",
    "# Ejecutar\n",
    "prueba_limpiar_muletillas()\n"
   ]
  },
  {
   "cell_type": "code",
   "execution_count": 1,
   "id": "82e9cce4",
   "metadata": {},
   "outputs": [
    {
     "name": "stdout",
     "output_type": "stream",
     "text": [
      "GPU disponible: True\n",
      "Nombre de GPU: NVIDIA GeForce RTX 3050\n"
     ]
    }
   ],
   "source": [
    "import torch\n",
    "print(\"GPU disponible:\", torch.cuda.is_available())\n",
    "print(\"Nombre de GPU:\", torch.cuda.get_device_name(0) if torch.cuda.is_available() else \"Ninguna\")"
   ]
  }
 ],
 "metadata": {
  "kernelspec": {
   "display_name": ".venv",
   "language": "python",
   "name": "python3"
  },
  "language_info": {
   "codemirror_mode": {
    "name": "ipython",
    "version": 3
   },
   "file_extension": ".py",
   "mimetype": "text/x-python",
   "name": "python",
   "nbconvert_exporter": "python",
   "pygments_lexer": "ipython3",
   "version": "3.12.0"
  }
 },
 "nbformat": 4,
 "nbformat_minor": 5
}
