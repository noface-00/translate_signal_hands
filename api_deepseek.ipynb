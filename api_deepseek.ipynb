{
 "cells": [
  {
   "cell_type": "markdown",
   "id": "f50f69c3",
   "metadata": {},
   "source": [
    "Inicializando key de api"
   ]
  },
  {
   "cell_type": "code",
   "execution_count": null,
   "id": "d88843b0",
   "metadata": {},
   "outputs": [],
   "source": [
    "import os\n",
    "\n",
    "key = r\"C:\\Users\\PC\\Desktop\\Cursos\\Proj_electro\\python\\.venv\\keys\\.env\"\n",
    "\n",
    "if os.path.exists(key):\n",
    "    with open(key, \"r\") as archivo:\n",
    "        key_api = archivo.read().strip()  # .strip() para eliminar saltos de línea\n",
    "else:\n",
    "    print(\"El archivo no existe.\")"
   ]
  },
  {
   "cell_type": "markdown",
   "id": "0e1ccd1c",
   "metadata": {},
   "source": [
    "Inicializando libreria openai"
   ]
  },
  {
   "cell_type": "code",
   "execution_count": 3,
   "id": "796c9b61",
   "metadata": {},
   "outputs": [],
   "source": [
    "from openai import OpenAI\n",
    "client = OpenAI(api_key= key_api,\n",
    "                base_url= \"https://openrouter.ai/api/v1\")\n"
   ]
  },
  {
   "cell_type": "markdown",
   "id": "774fd665",
   "metadata": {},
   "source": [
    "Funcion de promp muletilla"
   ]
  },
  {
   "cell_type": "code",
   "execution_count": 4,
   "id": "e64e57df",
   "metadata": {},
   "outputs": [],
   "source": [
    "def promp_muletillas(texto_org):\n",
    "    chat = client.chat.completions.create(\n",
    "        model= \"deepseek/deepseek-r1:free\",\n",
    "        messages=[\n",
    "            {\n",
    "                \"role\":\"system\",\n",
    "                \"content\": \"Eres un asistente experto en redacción en español.\",\n",
    "                \"role\":\"user\",\n",
    "                \"content\":f\"Toma el siguiente texto y elimínale todas las muletillas. Después, reestructura el texto si es necesario para que mantenga el sentido natural, claro y coherente en español, solo enviame el texto limpio.\\n {texto_org}\"\n",
    "            }\n",
    "        ]\n",
    "    )\n",
    "    return chat.choices[0].message.content"
   ]
  },
  {
   "cell_type": "markdown",
   "id": "ff954f49",
   "metadata": {},
   "source": [
    "Prueba de codigo"
   ]
  },
  {
   "cell_type": "code",
   "execution_count": 5,
   "id": "9aa035f9",
   "metadata": {},
   "outputs": [
    {
     "name": "stdout",
     "output_type": "stream",
     "text": [
      "El proyecto está casi terminado, pero necesitamos revisar algunos detalles. Podríamos hablar con el equipo mañana. También deberíamos considerar cambiar el diseño, ya que no se ve óptimo. Con más tiempo y un poco de ayuda, podríamos finalizarlo sin dificultades.\n"
     ]
    }
   ],
   "source": [
    "texto = \"Bueno, este, yo pienso que, o sea, el proyecto está casi terminado, eh, pero necesitamos revisar algunas cosas. Pues, a ver, podríamos hablar con el equipo mañana, ¿no? Mmm, también deberíamos considerar cambiar el diseño, porque, o sea, no se ve muy bien. Em, creo que con más tiempo y, bueno, un poco de ayuda, lo terminamos sin problemas.\"\n",
    "txt_limpio = promp_muletillas(texto)\n",
    "print(txt_limpio)"
   ]
  }
 ],
 "metadata": {
  "kernelspec": {
   "display_name": ".venv",
   "language": "python",
   "name": "python3"
  },
  "language_info": {
   "codemirror_mode": {
    "name": "ipython",
    "version": 3
   },
   "file_extension": ".py",
   "mimetype": "text/x-python",
   "name": "python",
   "nbconvert_exporter": "python",
   "pygments_lexer": "ipython3",
   "version": "3.12.0"
  }
 },
 "nbformat": 4,
 "nbformat_minor": 5
}
